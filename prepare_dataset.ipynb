{
 "cells": [
  {
   "cell_type": "code",
   "execution_count": 1,
   "metadata": {},
   "outputs": [],
   "source": [
    "import json\n",
    "from datetime import datetime\n",
    "import pandas as pd\n",
    "import plotly.express as px\n"
   ]
  },
  {
   "cell_type": "code",
   "execution_count": 2,
   "metadata": {},
   "outputs": [],
   "source": [
    "# Load YouTube history data from the JSON file\n",
    "with open('./YoutubeData/historique/watch-history.json', 'r', encoding='utf-8') as json_file:\n",
    "    youtube_history_entries = json.load(json_file)\n",
    "\n",
    "# Create list to store video_url\n",
    "url_videos = []\n",
    "timestamps = []"
   ]
  },
  {
   "cell_type": "code",
   "execution_count": 3,
   "metadata": {},
   "outputs": [],
   "source": [
    "for entry in youtube_history_entries:\n",
    "    url_videos.append(entry.get('titleUrl', ''))\n",
    "    timestamp_str = entry.get('time', '')\n",
    "\n",
    "    # Parse the timestamp into a datetime object\n",
    "    try:\n",
    "        timestamp = datetime.strptime(timestamp_str, '%Y-%m-%dT%H:%M:%S.%fZ')\n",
    "        timestamps.append(timestamp)\n",
    "    except ValueError:\n",
    "        pass  # Handle invalid timestamps or errors"
   ]
  },
  {
   "cell_type": "code",
   "execution_count": 4,
   "metadata": {},
   "outputs": [],
   "source": [
    "# Create a Dataframe from the video_url list\n",
    "URLs_df = pd.DataFrame({'URL': url_videos})\n",
    "# URLs_df.head()"
   ]
  },
  {
   "cell_type": "code",
   "execution_count": 5,
   "metadata": {},
   "outputs": [],
   "source": [
    "timestamp_df = pd.DataFrame({'Timestamp': timestamps})\n",
    "# timestamp_df.head()"
   ]
  },
  {
   "cell_type": "code",
   "execution_count": 6,
   "metadata": {},
   "outputs": [],
   "source": [
    "watched_videos_df = pd.concat([URLs_df, timestamp_df], axis=1)\n",
    "# extract the date and time component\n",
    "watched_videos_df['Date'] = watched_videos_df['Timestamp'].dt.date\n",
    "watched_videos_df['Time'] = watched_videos_df['Timestamp'].dt.time\n",
    "# watched_videos_df.head(2)"
   ]
  },
  {
   "cell_type": "code",
   "execution_count": 7,
   "metadata": {},
   "outputs": [],
   "source": [
    "# Filter data for August and September 2023\n",
    "start_date = datetime(2023, 8, 1)\n",
    "end_date = datetime(2023, 9, 30)\n",
    "filtered_df = watched_videos_df[(watched_videos_df['Date'] >= start_date.date()) & (watched_videos_df['Date'] <= end_date.date())]\n",
    "# print (start_date)\n",
    "# print(end_date)\n",
    "# filtered_df.head(2)"
   ]
  },
  {
   "cell_type": "code",
   "execution_count": 8,
   "metadata": {},
   "outputs": [
    {
     "name": "stdout",
     "output_type": "stream",
     "text": [
      "{}\n"
     ]
    }
   ],
   "source": [
    "# add the duration of every video using the youtube api\n",
    "from get_video_data import *"
   ]
  },
  {
   "cell_type": "code",
   "execution_count": 9,
   "metadata": {},
   "outputs": [
    {
     "name": "stdout",
     "output_type": "stream",
     "text": [
      "Video ID not found in the URL\n",
      "Video ID not found in the URL\n",
      "Video ID not found in the URL\n"
     ]
    },
    {
     "name": "stderr",
     "output_type": "stream",
     "text": [
      "C:\\Users\\DELL PRECISION\\AppData\\Local\\Temp\\ipykernel_7140\\3212405540.py:3: SettingWithCopyWarning: \n",
      "A value is trying to be set on a copy of a slice from a DataFrame.\n",
      "Try using .loc[row_indexer,col_indexer] = value instead\n",
      "\n",
      "See the caveats in the documentation: https://pandas.pydata.org/pandas-docs/stable/user_guide/indexing.html#returning-a-view-versus-a-copy\n",
      "  filtered_df[['Duration', 'Title', 'Tags', 'Topics']] = filtered_df['URL'].apply(lambda url: pd.Series(get_important_video_data(url)))\n",
      "C:\\Users\\DELL PRECISION\\AppData\\Local\\Temp\\ipykernel_7140\\3212405540.py:3: SettingWithCopyWarning: \n",
      "A value is trying to be set on a copy of a slice from a DataFrame.\n",
      "Try using .loc[row_indexer,col_indexer] = value instead\n",
      "\n",
      "See the caveats in the documentation: https://pandas.pydata.org/pandas-docs/stable/user_guide/indexing.html#returning-a-view-versus-a-copy\n",
      "  filtered_df[['Duration', 'Title', 'Tags', 'Topics']] = filtered_df['URL'].apply(lambda url: pd.Series(get_important_video_data(url)))\n",
      "C:\\Users\\DELL PRECISION\\AppData\\Local\\Temp\\ipykernel_7140\\3212405540.py:3: SettingWithCopyWarning: \n",
      "A value is trying to be set on a copy of a slice from a DataFrame.\n",
      "Try using .loc[row_indexer,col_indexer] = value instead\n",
      "\n",
      "See the caveats in the documentation: https://pandas.pydata.org/pandas-docs/stable/user_guide/indexing.html#returning-a-view-versus-a-copy\n",
      "  filtered_df[['Duration', 'Title', 'Tags', 'Topics']] = filtered_df['URL'].apply(lambda url: pd.Series(get_important_video_data(url)))\n",
      "C:\\Users\\DELL PRECISION\\AppData\\Local\\Temp\\ipykernel_7140\\3212405540.py:3: SettingWithCopyWarning: \n",
      "A value is trying to be set on a copy of a slice from a DataFrame.\n",
      "Try using .loc[row_indexer,col_indexer] = value instead\n",
      "\n",
      "See the caveats in the documentation: https://pandas.pydata.org/pandas-docs/stable/user_guide/indexing.html#returning-a-view-versus-a-copy\n",
      "  filtered_df[['Duration', 'Title', 'Tags', 'Topics']] = filtered_df['URL'].apply(lambda url: pd.Series(get_important_video_data(url)))\n"
     ]
    }
   ],
   "source": [
    "# add the important data columns of every video using the youtube api\n",
    "\n",
    "filtered_df[['Duration', 'Title', 'Tags', 'Topics']] = filtered_df['URL'].apply(lambda url: pd.Series(get_important_video_data(url)))\n"
   ]
  },
  {
   "cell_type": "code",
   "execution_count": 12,
   "metadata": {},
   "outputs": [],
   "source": [
    "# save the dataframe into a csv file\n",
    "filtered_df.to_csv('agustSeptemberYoutubeData.csv', sep=';')"
   ]
  }
 ],
 "metadata": {
  "kernelspec": {
   "display_name": "Python 3",
   "language": "python",
   "name": "python3"
  },
  "language_info": {
   "codemirror_mode": {
    "name": "ipython",
    "version": 3
   },
   "file_extension": ".py",
   "mimetype": "text/x-python",
   "name": "python",
   "nbconvert_exporter": "python",
   "pygments_lexer": "ipython3",
   "version": "3.10.2"
  },
  "orig_nbformat": 4
 },
 "nbformat": 4,
 "nbformat_minor": 2
}
